{
  "nbformat": 4,
  "nbformat_minor": 0,
  "metadata": {
    "colab": {
      "name": "Pytorch_Basics.ipynb",
      "provenance": [],
      "authorship_tag": "ABX9TyMeQtWldAqLG1ZDhbdkGDtm",
      "include_colab_link": true
    },
    "kernelspec": {
      "name": "python3",
      "display_name": "Python 3"
    },
    "language_info": {
      "name": "python"
    }
  },
  "cells": [
    {
      "cell_type": "markdown",
      "metadata": {
        "id": "view-in-github",
        "colab_type": "text"
      },
      "source": [
        "<a href=\"https://colab.research.google.com/github/abhiraj-mengade/Pytorch/blob/main/Pytorch_Basics.ipynb\" target=\"_parent\"><img src=\"https://colab.research.google.com/assets/colab-badge.svg\" alt=\"Open In Colab\"/></a>"
      ]
    },
    {
      "cell_type": "code",
      "metadata": {
        "id": "HCHC3odBaNuz"
      },
      "source": [
        "import torch"
      ],
      "execution_count": 1,
      "outputs": []
    },
    {
      "cell_type": "code",
      "metadata": {
        "colab": {
          "base_uri": "https://localhost:8080/"
        },
        "id": "GJDt7ii5btCi",
        "outputId": "7b3fd2b8-776c-44d1-f071-66697baceb90"
      },
      "source": [
        "t1 = torch.tensor(4.)\n",
        "print(t1)\n",
        "print(t1.dtype)\n",
        "print(t1.shape)"
      ],
      "execution_count": 4,
      "outputs": [
        {
          "output_type": "stream",
          "name": "stdout",
          "text": [
            "tensor(4.)\n",
            "torch.float32\n",
            "torch.Size([])\n"
          ]
        }
      ]
    },
    {
      "cell_type": "code",
      "metadata": {
        "colab": {
          "base_uri": "https://localhost:8080/"
        },
        "id": "yrwF0hBDcTSX",
        "outputId": "a40f4ef4-4e37-47b2-f222-6b0b112ee86e"
      },
      "source": [
        "t2 = torch.tensor([[[1,2],[2,3]],[[4,5],[6,7]]])\n",
        "print(t2.shape)"
      ],
      "execution_count": 6,
      "outputs": [
        {
          "output_type": "stream",
          "name": "stdout",
          "text": [
            "torch.Size([2, 2, 2])\n"
          ]
        }
      ]
    },
    {
      "cell_type": "code",
      "metadata": {
        "colab": {
          "base_uri": "https://localhost:8080/"
        },
        "id": "4PgLNLt2csvr",
        "outputId": "b6598d6c-e725-4ab5-efae-02ec25d52951"
      },
      "source": [
        "x = torch.tensor(2.)\n",
        "w = torch.tensor(4., requires_grad=True)\n",
        "b = torch.tensor(5., requires_grad=True)\n",
        "\n",
        "y = w*x + b\n",
        "y"
      ],
      "execution_count": 8,
      "outputs": [
        {
          "output_type": "execute_result",
          "data": {
            "text/plain": [
              "tensor(13., grad_fn=<AddBackward0>)"
            ]
          },
          "metadata": {},
          "execution_count": 8
        }
      ]
    },
    {
      "cell_type": "code",
      "metadata": {
        "id": "uG3KRtz0dSW4"
      },
      "source": [
        "y.backward()"
      ],
      "execution_count": 9,
      "outputs": []
    },
    {
      "cell_type": "code",
      "metadata": {
        "colab": {
          "base_uri": "https://localhost:8080/"
        },
        "id": "nRXPx8xQda1a",
        "outputId": "1e742a64-91d8-4776-bfb6-1728c4d6bd3e"
      },
      "source": [
        "print('dy/dx:',x.grad)\n",
        "print('dy/dw:',w.grad)\n",
        "print('dy/db:',b.grad)"
      ],
      "execution_count": 10,
      "outputs": [
        {
          "output_type": "stream",
          "name": "stdout",
          "text": [
            "dy/dx: None\n",
            "dy/dw: tensor(2.)\n",
            "dy/db: tensor(1.)\n"
          ]
        }
      ]
    },
    {
      "cell_type": "code",
      "metadata": {
        "colab": {
          "base_uri": "https://localhost:8080/"
        },
        "id": "k3YtsXjPdtKH",
        "outputId": "64aa108c-640f-42ee-d6ab-406310232391"
      },
      "source": [
        "import numpy as np\n",
        "x = np.array([[1,2],[3,4]])\n",
        "y = torch.from_numpy(x)\n",
        "print(y)\n",
        "z = y.numpy()\n",
        "print(z)"
      ],
      "execution_count": 12,
      "outputs": [
        {
          "output_type": "stream",
          "name": "stdout",
          "text": [
            "tensor([[1, 2],\n",
            "        [3, 4]])\n",
            "[[1 2]\n",
            " [3 4]]\n"
          ]
        }
      ]
    },
    {
      "cell_type": "markdown",
      "metadata": {
        "id": "fmxc3-spfZoH"
      },
      "source": [
        "**Linear Regression:**"
      ]
    },
    {
      "cell_type": "code",
      "metadata": {
        "id": "1QChS3X2fhqp"
      },
      "source": [
        "#inputs (temp, rainfall, humidity)\n",
        "inputs = np.array([[74, 68, 47],\n",
        "                   [92, 87, 68],\n",
        "                   [102, 45, 34],\n",
        "                   [68, 98, 72]], dtype = 'float32')\n",
        "inputs = torch.from_numpy(inputs)"
      ],
      "execution_count": 22,
      "outputs": []
    },
    {
      "cell_type": "code",
      "metadata": {
        "id": "GL9zCu0ZgxSc"
      },
      "source": [
        "#targets (fruit1 yeild, fruit2 yeild)\n",
        "targets = np.array([[58, 72],\n",
        "                    [82, 101],\n",
        "                    [119, 132],\n",
        "                    [22, 38]], dtype='float32')\n",
        "targets = torch.from_numpy(targets)"
      ],
      "execution_count": 32,
      "outputs": []
    },
    {
      "cell_type": "code",
      "metadata": {
        "colab": {
          "base_uri": "https://localhost:8080/"
        },
        "id": "SiuCYkOfhDcG",
        "outputId": "09aeb48d-10ff-4ac7-aac3-d9863e9d3df0"
      },
      "source": [
        "w = torch.randn(2,3 ,requires_grad=True)\n",
        "b = torch.randn(2,requires_grad=True)\n",
        "print(w)\n",
        "print(b)"
      ],
      "execution_count": 15,
      "outputs": [
        {
          "output_type": "stream",
          "name": "stdout",
          "text": [
            "tensor([[-0.8291,  0.9716, -1.1362],\n",
            "        [ 1.2409, -0.9020,  0.4677]], requires_grad=True)\n",
            "tensor([ 1.6450, -1.6510], requires_grad=True)\n"
          ]
        }
      ]
    },
    {
      "cell_type": "code",
      "metadata": {
        "id": "QyzbIckShiqt"
      },
      "source": [
        "def model(x):\n",
        "  return x @ w.t() + b"
      ],
      "execution_count": 26,
      "outputs": []
    },
    {
      "cell_type": "code",
      "metadata": {
        "colab": {
          "base_uri": "https://localhost:8080/"
        },
        "id": "RGOISsDOiBJv",
        "outputId": "15b9bc07-59dd-4c8a-fb62-6f0cb5e9f1ca"
      },
      "source": [
        "preds = model(inputs)\n",
        "print(preds)"
      ],
      "execution_count": 37,
      "outputs": [
        {
          "output_type": "stream",
          "name": "stdout",
          "text": [
            "tensor([[-29.4708,  54.2202],\n",
            "        [-44.6740,  70.2333],\n",
            "        [-59.9292, 103.6778],\n",
            "        [-20.1552,  32.1178]], grad_fn=<AddBackward0>)\n"
          ]
        }
      ]
    },
    {
      "cell_type": "code",
      "metadata": {
        "id": "cWflMWO9jdEm"
      },
      "source": [
        "#Loss function\n",
        "def mse(t1,t2):\n",
        "  diff = t1-t2\n",
        "  return torch.sum(diff * diff) / diff.numel()"
      ],
      "execution_count": 33,
      "outputs": []
    },
    {
      "cell_type": "code",
      "metadata": {
        "colab": {
          "base_uri": "https://localhost:8080/"
        },
        "id": "f8FIBF3hkA16",
        "outputId": "99990b8d-f867-4054-b6ec-a9ee35c0948f"
      },
      "source": [
        "loss = mse(preds, targets)\n",
        "print(loss)"
      ],
      "execution_count": 38,
      "outputs": [
        {
          "output_type": "stream",
          "name": "stdout",
          "text": [
            "tensor(7448.7056, grad_fn=<DivBackward0>)\n"
          ]
        }
      ]
    },
    {
      "cell_type": "code",
      "metadata": {
        "colab": {
          "base_uri": "https://localhost:8080/"
        },
        "id": "jLnTMJyKktNv",
        "outputId": "dc833a2c-c791-4abb-9e75-ea31bf7316ac"
      },
      "source": [
        "loss.backward()\n",
        "print(w.grad)\n",
        "print(b.grad)"
      ],
      "execution_count": 35,
      "outputs": [
        {
          "output_type": "stream",
          "name": "stdout",
          "text": [
            "tensor([[-11474.5449,  -8800.3291,  -6586.4482],\n",
            "        [ -2180.1941,  -1726.7742,  -1296.3127]])\n",
            "tensor([-128.6425,  -24.5220])\n"
          ]
        }
      ]
    },
    {
      "cell_type": "code",
      "metadata": {
        "id": "Q6HX05eDk0aN"
      },
      "source": [
        "with torch.no_grad():\n",
        "  w-=w.grad*1e-5\n",
        "  b-=b.grad*1e-5\n",
        "  w.grad.zero_()\n",
        "  b.grad.zero_()"
      ],
      "execution_count": 36,
      "outputs": []
    },
    {
      "cell_type": "code",
      "metadata": {
        "id": "i_rqiMdrmSUC"
      },
      "source": [
        "#epochs\n",
        "for i in range(100):\n",
        "  preds = model(inputs)\n",
        "  loss = mse(preds, targets)\n",
        "  loss.backward()\n",
        "  with torch.no_grad():\n",
        "    w-=w.grad*1e-5\n",
        "    b-=b.grad*1e-5\n",
        "    w.grad.zero_()\n",
        "    b.grad.zero_()"
      ],
      "execution_count": 57,
      "outputs": []
    },
    {
      "cell_type": "code",
      "metadata": {
        "colab": {
          "base_uri": "https://localhost:8080/"
        },
        "id": "ADYT79plm_HC",
        "outputId": "0faaee10-6072-4051-aaed-b5aa6dd6bf02"
      },
      "source": [
        "preds = model(inputs)\n",
        "loss = mse(preds, targets)\n",
        "print(loss)"
      ],
      "execution_count": 58,
      "outputs": [
        {
          "output_type": "stream",
          "name": "stdout",
          "text": [
            "tensor(52.1404, grad_fn=<DivBackward0>)\n"
          ]
        }
      ]
    },
    {
      "cell_type": "code",
      "metadata": {
        "colab": {
          "base_uri": "https://localhost:8080/"
        },
        "id": "pU1QHbghnQd_",
        "outputId": "be423f1a-b7b3-4b3c-e263-510ed963109e"
      },
      "source": [
        "print(targets)\n",
        "print(preds)"
      ],
      "execution_count": 59,
      "outputs": [
        {
          "output_type": "stream",
          "name": "stdout",
          "text": [
            "tensor([[ 58.,  72.],\n",
            "        [ 82., 101.],\n",
            "        [119., 132.],\n",
            "        [ 22.,  38.]])\n",
            "tensor([[ 65.7034,  72.4173],\n",
            "        [ 68.1321,  92.4418],\n",
            "        [121.7249, 135.4844],\n",
            "        [ 28.1578,  43.8788]], grad_fn=<AddBackward0>)\n"
          ]
        }
      ]
    }
  ]
}